{
 "cells": [
  {
   "cell_type": "code",
   "execution_count": 1,
   "metadata": {},
   "outputs": [],
   "source": [
    "import numpy as np\n",
    "import random\n",
    "from collections import namedtuple, deque\n",
    "\n",
    "import torch\n",
    "import torch.nn as nn\n",
    "import torch.nn.functional as F\n",
    "import torch.optim as optim"
   ]
  },
  {
   "cell_type": "code",
   "execution_count": 2,
   "metadata": {},
   "outputs": [],
   "source": [
    "from unityagents import UnityEnvironment\n",
    "import torch"
   ]
  },
  {
   "cell_type": "markdown",
   "metadata": {},
   "source": [
    "## Load DDPG agent"
   ]
  },
  {
   "cell_type": "code",
   "execution_count": 3,
   "metadata": {},
   "outputs": [],
   "source": [
    "from ddpg_agent import DDPGAgent"
   ]
  },
  {
   "cell_type": "markdown",
   "metadata": {},
   "source": [
    "## Load environment"
   ]
  },
  {
   "cell_type": "code",
   "execution_count": 4,
   "metadata": {},
   "outputs": [
    {
     "name": "stderr",
     "output_type": "stream",
     "text": [
      "INFO:unityagents:\n",
      "'Academy' started successfully!\n",
      "Unity Academy name: Academy\n",
      "        Number of Brains: 1\n",
      "        Number of External Brains : 1\n",
      "        Lesson number : 0\n",
      "        Reset Parameters :\n",
      "\t\t\n",
      "Unity brain name: TennisBrain\n",
      "        Number of Visual Observations (per agent): 0\n",
      "        Vector Observation space type: continuous\n",
      "        Vector Observation space size (per agent): 8\n",
      "        Number of stacked Vector Observation: 3\n",
      "        Vector Action space type: continuous\n",
      "        Vector Action space size (per agent): 2\n",
      "        Vector Action descriptions: , \n"
     ]
    }
   ],
   "source": [
    "env = UnityEnvironment(file_name=\"Tennis_Linux/Tennis.x86_64\")"
   ]
  },
  {
   "cell_type": "code",
   "execution_count": 5,
   "metadata": {},
   "outputs": [],
   "source": [
    "# get the default brain\n",
    "brain_name = env.brain_names[0]\n",
    "brain = env.brains[brain_name]"
   ]
  },
  {
   "cell_type": "markdown",
   "metadata": {},
   "source": [
    "## Examine states and action spaces"
   ]
  },
  {
   "cell_type": "code",
   "execution_count": 6,
   "metadata": {},
   "outputs": [
    {
     "name": "stdout",
     "output_type": "stream",
     "text": [
      "Number of agents: 2\n",
      "Size of each action: 2\n",
      "There are 2 agents. Each observes a state with length: 24\n",
      "The state for the first agent looks like: [ 0.          0.          0.          0.          0.          0.\n",
      "  0.          0.          0.          0.          0.          0.\n",
      "  0.          0.          0.          0.         -6.65278625 -1.5\n",
      " -0.          0.          6.83172083  6.         -0.          0.        ]\n"
     ]
    }
   ],
   "source": [
    "# reset the environment\n",
    "env_info = env.reset(train_mode=True)[brain_name]\n",
    "\n",
    "# number of agents \n",
    "num_agents = len(env_info.agents)\n",
    "print('Number of agents:', num_agents)\n",
    "\n",
    "# size of each action\n",
    "action_size = brain.vector_action_space_size\n",
    "print('Size of each action:', action_size)\n",
    "\n",
    "# examine the state space \n",
    "states = env_info.vector_observations\n",
    "state_size = states.shape[1]\n",
    "print('There are {} agents. Each observes a state with length: {}'.format(states.shape[0], state_size))\n",
    "print('The state for the first agent looks like:', states[0])"
   ]
  },
  {
   "cell_type": "markdown",
   "metadata": {},
   "source": [
    "## Actor and Critic model architecture details and set parameters"
   ]
  },
  {
   "cell_type": "code",
   "execution_count": 7,
   "metadata": {},
   "outputs": [],
   "source": [
    "in_critic = num_agents*(state_size + action_size)\n",
    "\n",
    "hidden_in_actor = 256\n",
    "hidden_out_actor = 128\n",
    "hidden_in_critic = 256\n",
    "hidden_out_critic = 128\n",
    "\n",
    "out_actor = action_size"
   ]
  },
  {
   "cell_type": "code",
   "execution_count": 8,
   "metadata": {},
   "outputs": [],
   "source": [
    "num_agents = len(env_info.agents)\n",
    "in_actor = state_size * num_agents"
   ]
  },
  {
   "cell_type": "code",
   "execution_count": 9,
   "metadata": {},
   "outputs": [],
   "source": [
    "eps_start = 6           # Noise level start\n",
    "eps_end = 0             # Noise level end\n",
    "eps_decay = 250         # Number of episodes to decay over from start to end"
   ]
  },
  {
   "cell_type": "markdown",
   "metadata": {},
   "source": [
    "### Initialize agents"
   ]
  },
  {
   "cell_type": "code",
   "execution_count": 10,
   "metadata": {},
   "outputs": [],
   "source": [
    "agents = [DDPGAgent(in_actor, hidden_in_actor, hidden_out_actor, out_actor, in_critic, hidden_in_critic, hidden_out_critic) for _ in range(num_agents)]"
   ]
  },
  {
   "cell_type": "markdown",
   "metadata": {},
   "source": [
    "## Training multi agent DDPG agents"
   ]
  },
  {
   "cell_type": "code",
   "execution_count": 11,
   "metadata": {},
   "outputs": [],
   "source": [
    "def ddpg_train_agents(n_episodes=4000, max_t=500, eps_start=1.0, eps_end=0.01, eps_decay=0.995, n_agents = num_agents):\n",
    "    \"\"\"DDPG Learning.\n",
    "    \n",
    "    Params\n",
    "    ======\n",
    "        n_episodes (int): maximum number of training episodes\n",
    "        max_t (int): maximum number of timesteps per episode\n",
    "        eps_start (float): starting value of epsilon, for epsilon-greedy action selection\n",
    "        eps_end (float): minimum value of epsilon\n",
    "        eps_decay (float): multiplicative factor (per episode) for decreasing epsilon\n",
    "        n_agents (int): Number of agents \n",
    "    \"\"\"\n",
    "    scores = []                        # list containing scores from each episode\n",
    "    all_scores_windows = []\n",
    "    \n",
    "    scores_window = deque(maxlen=100)  # last 100 scores\n",
    "    eps = eps_start                    # initialize epsilon\n",
    "    brain_name = env.brain_names[0]\n",
    "    brain = env.brains[brain_name]\n",
    "    for i_episode in range(1, n_episodes+1):\n",
    "        #print(\"Episode: \", i_episode)\n",
    "        env_info = env.reset(train_mode = True)[brain_name]\n",
    "        states = env_info.vector_observations\n",
    "        scores_temp = np.zeros(n_agents)\n",
    "        states = np.reshape(states, (1, 48))\n",
    "        while True:\n",
    "            actions = np.zeros((n_agents,2))\n",
    "            for i in range(n_agents):\n",
    "                actions[i,:] = agents[i].act(states, eps)\n",
    "            actions_npy = actions.reshape(1,-1)[0]\n",
    "            env_info = env.step(actions_npy)[brain_name]\n",
    "            next_states = env_info.vector_observations\n",
    "            next_states = np.reshape(next_states, (1, 48))\n",
    "            rewards = env_info.rewards\n",
    "            dones = env_info.local_done\n",
    "            for i in range(n_agents):\n",
    "                agents[i].step(states, actions_npy, rewards[i], next_states, dones[i], i)\n",
    "            states = next_states\n",
    "            scores_temp += np.array(rewards)\n",
    "            if np.any(dones):\n",
    "                break\n",
    "                \n",
    "        max_scores = np.max(scores_temp)\n",
    "        scores_window.append(max_scores)       # save most recent score\n",
    "        scores.append(max_scores)              # save most recent score\n",
    "        all_scores_windows.append(np.mean(scores_window))\n",
    "        eps = max(eps_end, eps_decay*eps) # decrease epsilon\n",
    "        if i_episode % 50 == 0:\n",
    "            print('\\rEpisode {}\\tAverage Score: {:.5f}'.format(i_episode, np.mean(scores_window)))\n",
    "        if i_episode % 200 == 0:\n",
    "            for i in range(n_agents):\n",
    "                torch.save(agents[i].target_actor.state_dict(), f'checkpoint_{i}.pth')\n",
    "        if np.mean(scores_window)>=0.5:\n",
    "            print('\\nEnvironment solved in {:d} episodes!\\tAverage Score: {:.2f}'.format(i_episode-100, np.mean(scores_window)))\n",
    "            for i in range(n_agents):\n",
    "                torch.save(agents[i].target_actor.state_dict(), f'solved_checkpoint_{i}.pth')\n",
    "            break\n",
    "    return scores, all_scores_windows"
   ]
  },
  {
   "cell_type": "markdown",
   "metadata": {},
   "source": [
    "## Scores per episode"
   ]
  },
  {
   "cell_type": "code",
   "execution_count": 12,
   "metadata": {},
   "outputs": [
    {
     "name": "stdout",
     "output_type": "stream",
     "text": [
      "Episode 50\tAverage Score: 0.02720\n",
      "Episode 100\tAverage Score: 0.02210\n",
      "Episode 150\tAverage Score: 0.01450\n",
      "Episode 200\tAverage Score: 0.00800\n",
      "Episode 250\tAverage Score: 0.00500\n",
      "Episode 300\tAverage Score: 0.00700\n",
      "Episode 350\tAverage Score: 0.01400\n",
      "Episode 400\tAverage Score: 0.02580\n",
      "Episode 450\tAverage Score: 0.02460\n",
      "Episode 500\tAverage Score: 0.02260\n",
      "Episode 550\tAverage Score: 0.03030\n",
      "Episode 600\tAverage Score: 0.02620\n",
      "Episode 650\tAverage Score: 0.01350\n",
      "Episode 700\tAverage Score: 0.01650\n",
      "Episode 750\tAverage Score: 0.02250\n",
      "Episode 800\tAverage Score: 0.01450\n",
      "Episode 850\tAverage Score: 0.01530\n",
      "Episode 900\tAverage Score: 0.01930\n",
      "Episode 950\tAverage Score: 0.01910\n",
      "Episode 1000\tAverage Score: 0.02220\n",
      "Episode 1050\tAverage Score: 0.02250\n",
      "Episode 1100\tAverage Score: 0.02340\n",
      "Episode 1150\tAverage Score: 0.04780\n",
      "Episode 1200\tAverage Score: 0.06380\n",
      "Episode 1250\tAverage Score: 0.03720\n",
      "Episode 1300\tAverage Score: 0.02670\n",
      "Episode 1350\tAverage Score: 0.04610\n",
      "Episode 1400\tAverage Score: 0.05050\n",
      "Episode 1450\tAverage Score: 0.05060\n",
      "Episode 1500\tAverage Score: 0.05710\n",
      "Episode 1550\tAverage Score: 0.05510\n",
      "Episode 1600\tAverage Score: 0.03760\n",
      "Episode 1650\tAverage Score: 0.03490\n",
      "Episode 1700\tAverage Score: 0.04980\n",
      "Episode 1750\tAverage Score: 0.05580\n",
      "Episode 1800\tAverage Score: 0.05670\n",
      "Episode 1850\tAverage Score: 0.06440\n",
      "Episode 1900\tAverage Score: 0.08050\n",
      "Episode 1950\tAverage Score: 0.09270\n",
      "Episode 2000\tAverage Score: 0.09730\n",
      "Episode 2050\tAverage Score: 0.10590\n",
      "Episode 2100\tAverage Score: 0.11620\n",
      "Episode 2150\tAverage Score: 0.10620\n",
      "Episode 2200\tAverage Score: 0.10140\n",
      "Episode 2250\tAverage Score: 0.11650\n",
      "Episode 2300\tAverage Score: 0.13690\n",
      "Episode 2350\tAverage Score: 0.14210\n",
      "Episode 2400\tAverage Score: 0.14120\n",
      "Episode 2450\tAverage Score: 0.13110\n",
      "Episode 2500\tAverage Score: 0.13610\n",
      "Episode 2550\tAverage Score: 0.14010\n",
      "Episode 2600\tAverage Score: 0.13250\n",
      "Episode 2650\tAverage Score: 0.14840\n",
      "Episode 2700\tAverage Score: 0.18180\n",
      "Episode 2750\tAverage Score: 0.21460\n",
      "Episode 2800\tAverage Score: 0.23520\n",
      "Episode 2850\tAverage Score: 0.32570\n",
      "Episode 2900\tAverage Score: 0.39770\n",
      "Episode 2950\tAverage Score: 0.36150\n",
      "\n",
      "Environment solved in 2891 episodes!\tAverage Score: 0.50\n"
     ]
    }
   ],
   "source": [
    "scores = ddpg_train_agents()"
   ]
  },
  {
   "cell_type": "code",
   "execution_count": 13,
   "metadata": {},
   "outputs": [],
   "source": [
    "import matplotlib.pyplot as plt\n",
    "%matplotlib inline"
   ]
  },
  {
   "cell_type": "markdown",
   "metadata": {},
   "source": [
    "## Plot of rewards and average over 100 consecutive rewards (shown in orange)"
   ]
  },
  {
   "cell_type": "code",
   "execution_count": 15,
   "metadata": {},
   "outputs": [
    {
     "data": {
      "image/png": "[encoded data removed]",
      "text/plain": [
       "<Figure size 720x576 with 1 Axes>"
      ]
     },
     "metadata": {
      "needs_background": "light"
     },
     "output_type": "display_data"
    }
   ],
   "source": [
    "fig = plt.figure(figsize = (10,8))\n",
    "ax = fig.add_subplot(111)\n",
    "plt.plot(np.arange(1, len(scores[0])+1), scores[0])\n",
    "plt.plot(np.arange(1, len(scores[1])+1), scores[1])\n",
    "plt.ylabel('Score')\n",
    "plt.xlabel('Episode #')\n",
    "plt.show()"
   ]
  },
  {
   "cell_type": "markdown",
   "metadata": {},
   "source": [
    "# Test the solved agents to play"
   ]
  },
  {
   "cell_type": "code",
   "execution_count": 16,
   "metadata": {},
   "outputs": [],
   "source": [
    "from model import DDPGNet\n",
    "target_actor1 = DDPGNet(in_actor, hidden_in_actor, hidden_out_actor, out_actor, actor = True)\n",
    "target_actor2 = DDPGNet(in_actor, hidden_in_actor, hidden_out_actor, out_actor, actor = True)"
   ]
  },
  {
   "cell_type": "code",
   "execution_count": 17,
   "metadata": {},
   "outputs": [],
   "source": [
    "device = torch.device(\"cuda:0\" if torch.cuda.is_available() else \"cpu\")"
   ]
  },
  {
   "cell_type": "code",
   "execution_count": 19,
   "metadata": {},
   "outputs": [
    {
     "data": {
      "text/plain": [
       "DDPGNet(\n",
       "  (fc1): Linear(in_features=48, out_features=256, bias=True)\n",
       "  (fc2): Linear(in_features=256, out_features=128, bias=True)\n",
       "  (fc3): Linear(in_features=128, out_features=2, bias=True)\n",
       ")"
      ]
     },
     "execution_count": 19,
     "metadata": {},
     "output_type": "execute_result"
    }
   ],
   "source": [
    "target_actor1.load_state_dict(torch.load('solved_checkpoint_0.pth'))\n",
    "target_actor2.load_state_dict(torch.load('solved_checkpoint_1.pth'))\n",
    "\n",
    "target_actor1.to(device)\n",
    "target_actor2.to(device)"
   ]
  },
  {
   "cell_type": "code",
   "execution_count": 20,
   "metadata": {},
   "outputs": [],
   "source": [
    "def actor_act(target_actor, state, eps = 0.0):\n",
    "    #import pdb;pdb.set_trace()\n",
    "    state = torch.from_numpy(state).float().unsqueeze(0).to(device)\n",
    "    state = np.reshape(state, (1,48)).cuda()\n",
    "    target_actor.eval()\n",
    "    #import pdb; pdb.set_trace()\n",
    "    with torch.no_grad():\n",
    "        action_values = target_actor(state)\n",
    "    #target_actor.train()\n",
    "    action_vals_npy = action_values.cpu().data.numpy()\n",
    "    return np.clip(action_vals_npy, -1, 1)"
   ]
  },
  {
   "cell_type": "markdown",
   "metadata": {},
   "source": []
  },
  {
   "cell_type": "code",
   "execution_count": 21,
   "metadata": {},
   "outputs": [
    {
     "name": "stdout",
     "output_type": "stream",
     "text": [
      "Score (max over agents) from episode 1: 0.4000000059604645\n",
      "Score (max over agents) from episode 2: 0.4000000059604645\n",
      "Score (max over agents) from episode 3: 0.10000000149011612\n",
      "Score (max over agents) from episode 4: 0.20000000298023224\n",
      "Score (max over agents) from episode 5: 0.30000000447034836\n",
      "Score (max over agents) from episode 6: 0.10000000149011612\n",
      "Score (max over agents) from episode 7: 0.20000000298023224\n",
      "Score (max over agents) from episode 8: 0.20000000298023224\n",
      "Score (max over agents) from episode 9: 0.20000000298023224\n",
      "Score (max over agents) from episode 10: 0.0\n",
      "Score (max over agents) from episode 11: 0.10000000149011612\n",
      "Score (max over agents) from episode 12: 0.6000000089406967\n",
      "Score (max over agents) from episode 13: 0.20000000298023224\n",
      "Score (max over agents) from episode 14: 0.0\n",
      "Score (max over agents) from episode 15: 0.20000000298023224\n",
      "Score (max over agents) from episode 16: 0.20000000298023224\n",
      "Score (max over agents) from episode 17: 0.20000000298023224\n",
      "Score (max over agents) from episode 18: 0.10000000149011612\n",
      "Score (max over agents) from episode 19: 0.10000000149011612\n",
      "Score (max over agents) from episode 20: 0.4000000059604645\n",
      "Score (max over agents) from episode 21: 0.4000000059604645\n",
      "Score (max over agents) from episode 22: 0.10000000149011612\n",
      "Score (max over agents) from episode 23: 0.0\n",
      "Score (max over agents) from episode 24: 0.0\n",
      "Score (max over agents) from episode 25: 0.20000000298023224\n",
      "Score (max over agents) from episode 26: 0.30000000447034836\n",
      "Score (max over agents) from episode 27: 0.09000000171363354\n",
      "Score (max over agents) from episode 28: 0.30000000447034836\n",
      "Score (max over agents) from episode 29: 0.20000000298023224\n",
      "Score (max over agents) from episode 30: 0.20000000298023224\n",
      "Score (max over agents) from episode 31: 0.4000000059604645\n",
      "Score (max over agents) from episode 32: 0.6000000089406967\n",
      "Score (max over agents) from episode 33: 0.4000000059604645\n",
      "Score (max over agents) from episode 34: 0.20000000298023224\n",
      "Score (max over agents) from episode 35: 0.0\n",
      "Score (max over agents) from episode 36: 0.10000000149011612\n",
      "Score (max over agents) from episode 37: 0.20000000298023224\n",
      "Score (max over agents) from episode 38: 0.20000000298023224\n",
      "Score (max over agents) from episode 39: 0.20000000298023224\n",
      "Score (max over agents) from episode 40: 0.20000000298023224\n",
      "Score (max over agents) from episode 41: 0.0\n",
      "Score (max over agents) from episode 42: 0.0\n",
      "Score (max over agents) from episode 43: 0.0\n",
      "Score (max over agents) from episode 44: 0.19000000320374966\n",
      "Score (max over agents) from episode 45: 0.10000000149011612\n",
      "Score (max over agents) from episode 46: 0.10000000149011612\n",
      "Score (max over agents) from episode 47: 0.0\n",
      "Score (max over agents) from episode 48: 0.0\n",
      "Score (max over agents) from episode 49: 0.10000000149011612\n",
      "Score (max over agents) from episode 50: 0.20000000298023224\n",
      "Score (max over agents) from episode 51: 0.10000000149011612\n",
      "Score (max over agents) from episode 52: 0.4000000059604645\n",
      "Score (max over agents) from episode 53: 0.10000000149011612\n",
      "Score (max over agents) from episode 54: 0.10000000149011612\n",
      "Score (max over agents) from episode 55: 0.10000000149011612\n",
      "Score (max over agents) from episode 56: 0.19000000320374966\n",
      "Score (max over agents) from episode 57: 0.20000000298023224\n",
      "Score (max over agents) from episode 58: 0.20000000298023224\n",
      "Score (max over agents) from episode 59: 0.4000000059604645\n"
     ]
    }
   ],
   "source": [
    "for i in range(1, 60):                                      # play game for 5 episodes\n",
    "    env_info = env.reset(train_mode=False)[brain_name]     # reset the environment    \n",
    "    states = env_info.vector_observations                  # get the current state (for each agent)\n",
    "    scores = np.zeros(num_agents)                          # initialize the score (for each agent)\n",
    "    while True:\n",
    "        actions = np.random.randn(num_agents, action_size) # select an action (for each agent)\n",
    "        actions[0,:] = actor_act(target_actor1, states, eps = 0.0)\n",
    "        actions[1,:] = actor_act(target_actor2, states, eps = 0.0)\n",
    "        actions = np.clip(actions, -1, 1)                  # all actions between -1 and 1\n",
    "        env_info = env.step(actions)[brain_name]           # send all actions to tne environment\n",
    "        next_states = env_info.vector_observations         # get next state (for each agent)\n",
    "        rewards = env_info.rewards                         # get reward (for each agent)\n",
    "        dones = env_info.local_done                        # see if episode finished\n",
    "        scores += env_info.rewards                         # update the score (for each agent)\n",
    "        states = next_states                               # roll over states to next time step\n",
    "        if np.any(dones):                                  # exit loop if episode finished\n",
    "            break\n",
    "    print('Score (max over agents) from episode {}: {}'.format(i, np.max(scores)))"
   ]
  },
  {
   "cell_type": "code",
   "execution_count": 22,
   "metadata": {},
   "outputs": [],
   "source": [
    "env.close()"
   ]
  },
  {
   "cell_type": "code",
   "execution_count": null,
   "metadata": {},
   "outputs": [],
   "source": []
  }
 ],
 "metadata": {
  "kernelspec": {
   "display_name": "drlnd",
   "language": "python",
   "name": "drlnd"
  },
  "language_info": {
   "codemirror_mode": {
    "name": "ipython",
    "version": 3
   },
   "file_extension": ".py",
   "mimetype": "text/x-python",
   "name": "python",
   "nbconvert_exporter": "python",
   "pygments_lexer": "ipython3",
   "version": "3.6.10"
  }
 },
 "nbformat": 4,
 "nbformat_minor": 4
}
